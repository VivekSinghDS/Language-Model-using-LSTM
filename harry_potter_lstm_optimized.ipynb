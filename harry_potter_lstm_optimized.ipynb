{
 "cells": [
  {
   "cell_type": "code",
   "execution_count": 1,
   "id": "404a3f4b",
   "metadata": {},
   "outputs": [],
   "source": [
    "from tensorflow.keras.preprocessing.sequence import pad_sequences\n",
    "from tensorflow.keras.layers import Embedding, LSTM, Dense, Dropout\n",
    "from tensorflow.keras.preprocessing.text import Tokenizer\n",
    "from tensorflow.keras.callbacks import EarlyStopping\n",
    "from tensorflow.keras.models import Sequential\n",
    "# import keras.utils as ku \n",
    "import tensorflow.keras.utils as k\n",
    "# set seeds for reproducability\n",
    "import tensorflow\n",
    "from numpy.random import seed\n",
    "# tensorflow.random.set_seed(2)\n",
    "# seed(1)\n",
    "import tensorflow as tf\n",
    "\n",
    "import pandas as pd\n",
    "import numpy as np\n",
    "import string, os \n",
    "\n",
    "import warnings\n",
    "warnings.filterwarnings(\"ignore\")\n",
    "warnings.simplefilter(action='ignore', category=FutureWarning)"
   ]
  },
  {
   "cell_type": "code",
   "execution_count": 2,
   "id": "684190bc",
   "metadata": {},
   "outputs": [],
   "source": [
    "f = open(\"harry.txt\", \"r\")\n",
    "x = f.read()"
   ]
  },
  {
   "cell_type": "code",
   "execution_count": 3,
   "id": "5d547448",
   "metadata": {},
   "outputs": [],
   "source": [
    "import re\n",
    "y = ''\n",
    "cleaned = re.findall(r'[^!?\",\\[\\]\\n\\s\\d%]+', x)\n",
    "for i in cleaned:\n",
    "\n",
    "    y+=i\n",
    "    y = y+' '"
   ]
  },
  {
   "cell_type": "code",
   "execution_count": 4,
   "id": "9e94f191",
   "metadata": {},
   "outputs": [],
   "source": [
    "period_separated_sentence = y.split('.')"
   ]
  },
  {
   "cell_type": "code",
   "execution_count": 5,
   "id": "494c65e6",
   "metadata": {},
   "outputs": [
    {
     "data": {
      "text/plain": [
       "[[1, 245],\n",
       " [1, 245, 54],\n",
       " [1, 245, 54, 1618],\n",
       " [1, 245, 54, 1618, 91],\n",
       " [3, 207],\n",
       " [906, 5],\n",
       " [906, 5, 810],\n",
       " [906, 5, 810, 437],\n",
       " [906, 5, 810, 437, 1161],\n",
       " [906, 5, 810, 437, 1161, 973]]"
      ]
     },
     "execution_count": 5,
     "metadata": {},
     "output_type": "execute_result"
    }
   ],
   "source": [
    "tokenizer = Tokenizer()\n",
    "\n",
    "def get_sequence_of_tokens(corpus):\n",
    "    ## tokenization\n",
    "    tokenizer.fit_on_texts(corpus)\n",
    "    total_words = len(tokenizer.word_index) + 1\n",
    "    \n",
    "    ## convert data to sequence of tokens \n",
    "    input_sequences = []\n",
    "    for line in corpus:\n",
    "        token_list = tokenizer.texts_to_sequences([line])[0]\n",
    "        for i in range(1, len(token_list)):\n",
    "            n_gram_sequence = token_list[:i+1]\n",
    "            input_sequences.append(n_gram_sequence)\n",
    "    return input_sequences, total_words\n",
    "\n",
    "inp_sequences, total_words = get_sequence_of_tokens(period_separated_sentence)\n",
    "inp_sequences[:10]"
   ]
  },
  {
   "cell_type": "code",
   "execution_count": 6,
   "id": "1c7a56ae",
   "metadata": {},
   "outputs": [],
   "source": [
    "#loading the model\n",
    "model1 = tf.keras.models.load_model('harry_model_100.h5')"
   ]
  },
  {
   "cell_type": "code",
   "execution_count": 7,
   "id": "d276a728",
   "metadata": {},
   "outputs": [],
   "source": [
    "max_sequence_len = 195\n",
    "tokenizer = Tokenizer()\n",
    "tokenizer.fit_on_texts(period_separated_sentence)"
   ]
  },
  {
   "cell_type": "code",
   "execution_count": 8,
   "id": "b2355182",
   "metadata": {},
   "outputs": [],
   "source": [
    "def generate_text(seed_text, next_words, model, max_sequence_len):\n",
    "    for _ in range(next_words):\n",
    "        token_list = tokenizer.texts_to_sequences([seed_text])[0]\n",
    "        token_list = pad_sequences([token_list], maxlen=max_sequence_len-1, padding='pre')\n",
    "        predicted = model.predict_classes(token_list, verbose=0)\n",
    "        \n",
    "        output_word = \"\"\n",
    "        for word,index in tokenizer.word_index.items():\n",
    "            if index == predicted:\n",
    "                output_word = word\n",
    "                break\n",
    "        seed_text += \" \"+output_word\n",
    "    return seed_text.title()"
   ]
  },
  {
   "cell_type": "code",
   "execution_count": 11,
   "id": "3c07f51c",
   "metadata": {},
   "outputs": [
    {
     "name": "stdout",
     "output_type": "stream",
     "text": [
      "Harry Has Been Wandering Over To The Hospital Wing For A Moment He Had To Get A Word From\n"
     ]
    }
   ],
   "source": [
    "# Printing from the loaded model \n",
    "print (generate_text('Harry has been wandering', 15, model1, max_sequence_len))"
   ]
  },
  {
   "cell_type": "code",
   "execution_count": 13,
   "id": "a00d9633",
   "metadata": {},
   "outputs": [
    {
     "name": "stdout",
     "output_type": "stream",
     "text": [
      "Tom Riddle Could Have Been Expelled And He Was Going To Be A Lot Of A Lot Of\n"
     ]
    }
   ],
   "source": [
    "print (generate_text('Tom Riddle could', 15, model1, max_sequence_len))"
   ]
  },
  {
   "cell_type": "code",
   "execution_count": 16,
   "id": "47efc904",
   "metadata": {},
   "outputs": [
    {
     "name": "stdout",
     "output_type": "stream",
     "text": [
      "Fred And George Weasley Were Sitting In The Doorway And\n"
     ]
    }
   ],
   "source": [
    "print (generate_text('Fred and', 8, model1, max_sequence_len))"
   ]
  },
  {
   "cell_type": "code",
   "execution_count": 17,
   "id": "10072fab",
   "metadata": {},
   "outputs": [
    {
     "name": "stdout",
     "output_type": "stream",
     "text": [
      "Hermione Was The Smartest Only Person Who Was In The Same Side Of The Forest And The Door Was\n"
     ]
    }
   ],
   "source": [
    "print (generate_text('Hermione was the smartest', 15, model1, max_sequence_len))"
   ]
  },
  {
   "cell_type": "code",
   "execution_count": 19,
   "id": "039de741",
   "metadata": {},
   "outputs": [
    {
     "name": "stdout",
     "output_type": "stream",
     "text": [
      "The Death Eaters Were Still And Then He Saw The Door Behind\n"
     ]
    }
   ],
   "source": [
    "\n",
    "print (generate_text('The death', 10, model1, max_sequence_len))"
   ]
  },
  {
   "cell_type": "code",
   "execution_count": 27,
   "id": "7159734e",
   "metadata": {},
   "outputs": [
    {
     "name": "stdout",
     "output_type": "stream",
     "text": [
      "Mr. Potter ” Harry Said As He Sat Down In The Middle Of The Room And The Stone Steps To The Mirror And Was Going To Be\n"
     ]
    }
   ],
   "source": [
    "print (generate_text('Mr. Potter', 25, model1, max_sequence_len))"
   ]
  },
  {
   "cell_type": "code",
   "execution_count": null,
   "id": "33c59b75",
   "metadata": {},
   "outputs": [],
   "source": []
  }
 ],
 "metadata": {
  "kernelspec": {
   "display_name": "Python 3",
   "language": "python",
   "name": "python3"
  },
  "language_info": {
   "codemirror_mode": {
    "name": "ipython",
    "version": 3
   },
   "file_extension": ".py",
   "mimetype": "text/x-python",
   "name": "python",
   "nbconvert_exporter": "python",
   "pygments_lexer": "ipython3",
   "version": "3.8.8"
  }
 },
 "nbformat": 4,
 "nbformat_minor": 5
}
